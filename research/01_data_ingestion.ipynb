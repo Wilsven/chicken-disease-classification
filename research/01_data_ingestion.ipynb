{
 "cells": [
  {
   "cell_type": "code",
   "execution_count": 1,
   "metadata": {},
   "outputs": [],
   "source": [
    "import os"
   ]
  },
  {
   "cell_type": "code",
   "execution_count": 2,
   "metadata": {},
   "outputs": [
    {
     "data": {
      "text/plain": [
       "'/Users/wilsvenleong/Downloads/learning-materials/chicken-disease-classification/research'"
      ]
     },
     "execution_count": 2,
     "metadata": {},
     "output_type": "execute_result"
    }
   ],
   "source": [
    "%pwd"
   ]
  },
  {
   "cell_type": "code",
   "execution_count": 3,
   "metadata": {},
   "outputs": [
    {
     "data": {
      "text/plain": [
       "'/Users/wilsvenleong/Downloads/learning-materials/chicken-disease-classification'"
      ]
     },
     "execution_count": 3,
     "metadata": {},
     "output_type": "execute_result"
    }
   ],
   "source": [
    "os.chdir(\"../\") # Move up to root directory\n",
    "%pwd"
   ]
  },
  {
   "cell_type": "markdown",
   "metadata": {},
   "source": [
    "## 1. Update `config.yaml`"
   ]
  },
  {
   "cell_type": "markdown",
   "metadata": {},
   "source": [
    "## 4. Update the Entity"
   ]
  },
  {
   "cell_type": "code",
   "execution_count": 4,
   "metadata": {},
   "outputs": [],
   "source": [
    "from dataclasses import dataclass\n",
    "from pathlib import Path\n",
    "\n",
    "\n",
    "@dataclass(frozen=True)\n",
    "class DataIngestionConfig:\n",
    "    root_dir: Path\n",
    "    source_url: str\n",
    "    local_data_file: Path\n",
    "    unzip_dir: Path"
   ]
  },
  {
   "cell_type": "markdown",
   "metadata": {},
   "source": [
    "## 5. Update the Configuration Manager in `src/config`"
   ]
  },
  {
   "cell_type": "code",
   "execution_count": 6,
   "metadata": {},
   "outputs": [],
   "source": [
    "from chicken_disease_classification.constants import * \n",
    "from chicken_disease_classification.utils.common import read_yaml, create_directories\n",
    "\n",
    "\n",
    "class ConfigurationManager:\n",
    "    def __init__(\n",
    "        self, \n",
    "        config_file_path: Path = CONFIG_FILE_PATH, \n",
    "        params_file_path: Path = PARAMS_FILE_PATH\n",
    "    ):\n",
    "        self.config = read_yaml(config_file_path)\n",
    "        self.params = read_yaml(params_file_path)\n",
    "        \n",
    "        create_directories([self.config.artifacts_root])\n",
    "        \n",
    "    def get_data_ingestion_config(self) -> DataIngestionConfig:\n",
    "        \"\"\"\n",
    "        Creates the root directory and returns \n",
    "        the configuration for data ingestion.\n",
    "\n",
    "        Returns:\n",
    "            DataIngestionConfig: Configuration for data ingestion.\n",
    "        \"\"\"\n",
    "        data_ingestion = self.config.data_ingestion\n",
    "        \n",
    "        create_directories([data_ingestion.root_dir])\n",
    "        \n",
    "        data_ingestion_config = DataIngestionConfig(\n",
    "            root_dir=data_ingestion.root_dir,\n",
    "            source_url=data_ingestion.source_url,\n",
    "            local_data_file=data_ingestion.local_data_file,\n",
    "            unzip_dir=data_ingestion.unzip_dir,\n",
    "        )\n",
    "        \n",
    "        return data_ingestion_config"
   ]
  },
  {
   "cell_type": "markdown",
   "metadata": {},
   "source": [
    "## 6. Update the Components"
   ]
  },
  {
   "cell_type": "code",
   "execution_count": 8,
   "metadata": {},
   "outputs": [],
   "source": [
    "import os\n",
    "import zipfile\n",
    "import urllib.request as request\n",
    "\n",
    "from chicken_disease_classification import logger\n",
    "from chicken_disease_classification.utils.common import get_size\n",
    "\n",
    "\n",
    "class DataIngestion:\n",
    "    def __init__(self, config: DataIngestionConfig):\n",
    "        self.config = config\n",
    "        \n",
    "    def download_file(self):\n",
    "        \"\"\"Downloads the zipped data file if it does not already exist.\"\"\"\n",
    "        if not os.path.exists(self.config.local_data_file):\n",
    "            file_name, headers = request.urlretrieve(\n",
    "                url=self.config.source_url,\n",
    "                filename=self.config.local_data_file,\n",
    "            )\n",
    "            logger.info(f\"{file_name} downloaded with the following info: \\n{headers}\")\n",
    "        else:\n",
    "            logger.info(f\"File already exists of size: {get_size(self.config.local_data_file)}\")\n",
    "            \n",
    "    def extract_zip_file(self):\n",
    "        \"\"\"Extracts the contents from zipped file.\n",
    "        \n",
    "        Creates a directory if it does not already exist\n",
    "        and extracts the contents fo the zipped file into the directory.\n",
    "        \"\"\"\n",
    "        unzip_path = self.config.unzip_dir\n",
    "        os.makedirs(unzip_path, exist_ok=True)\n",
    "        with zipfile.ZipFile(self.config.local_data_file, \"r\") as f:\n",
    "            f.extractall(unzip_path)"
   ]
  },
  {
   "cell_type": "markdown",
   "metadata": {},
   "source": [
    "## 7. Update the Pipeline"
   ]
  },
  {
   "cell_type": "code",
   "execution_count": 9,
   "metadata": {},
   "outputs": [
    {
     "name": "stdout",
     "output_type": "stream",
     "text": [
      "[ 2023-09-22 01:47:37,729 ] 33 common chicken-disease-logger -  INFO - Loaded YAML file successfully from: config/config.yaml\n",
      "[ 2023-09-22 01:47:37,731 ] 33 common chicken-disease-logger -  INFO - Loaded YAML file successfully from: params.yaml\n",
      "[ 2023-09-22 01:47:37,732 ] 53 common chicken-disease-logger -  INFO - Created directory at: artifacts\n",
      "[ 2023-09-22 01:47:37,734 ] 53 common chicken-disease-logger -  INFO - Created directory at: artifacts/data_ingestion\n",
      "[ 2023-09-22 01:47:42,178 ] 12 3336112685 chicken-disease-logger -  INFO - artifacts/data_ingestion/data.zip downloaded with the following info: \n",
      "Connection: close\n",
      "Content-Length: 11616915\n",
      "Cache-Control: max-age=300\n",
      "Content-Security-Policy: default-src 'none'; style-src 'unsafe-inline'; sandbox\n",
      "Content-Type: application/zip\n",
      "ETag: \"adf745abc03891fe493c3be264ec012691fe3fa21d861f35a27edbe6d86a76b1\"\n",
      "Strict-Transport-Security: max-age=31536000\n",
      "X-Content-Type-Options: nosniff\n",
      "X-Frame-Options: deny\n",
      "X-XSS-Protection: 1; mode=block\n",
      "X-GitHub-Request-Id: CCD0:43A4:1D5333:222E06:650C81B8\n",
      "Accept-Ranges: bytes\n",
      "Date: Thu, 21 Sep 2023 17:47:41 GMT\n",
      "Via: 1.1 varnish\n",
      "X-Served-By: cache-qpg1271-QPG\n",
      "X-Cache: MISS\n",
      "X-Cache-Hits: 0\n",
      "X-Timer: S1695318458.225215,VS0,VE2799\n",
      "Vary: Authorization,Accept-Encoding,Origin\n",
      "Access-Control-Allow-Origin: *\n",
      "Cross-Origin-Resource-Policy: cross-origin\n",
      "X-Fastly-Request-ID: 4bc287fc4cb6c094f25731ce43afc40301b1b762\n",
      "Expires: Thu, 21 Sep 2023 17:52:41 GMT\n",
      "Source-Age: 2\n",
      "\n",
      "\n"
     ]
    }
   ],
   "source": [
    "try:\n",
    "    config_manager = ConfigurationManager()\n",
    "    data_ingestion_config = config_manager.get_data_ingestion_config()\n",
    "    data_ingestion = DataIngestion(config=data_ingestion_config)\n",
    "    data_ingestion.download_file()\n",
    "    data_ingestion.extract_zip_file()\n",
    "except Exception as e:\n",
    "    raise e"
   ]
  },
  {
   "cell_type": "code",
   "execution_count": null,
   "metadata": {},
   "outputs": [],
   "source": []
  }
 ],
 "metadata": {
  "kernelspec": {
   "display_name": "chicken",
   "language": "python",
   "name": "python3"
  },
  "language_info": {
   "codemirror_mode": {
    "name": "ipython",
    "version": 3
   },
   "file_extension": ".py",
   "mimetype": "text/x-python",
   "name": "python",
   "nbconvert_exporter": "python",
   "pygments_lexer": "ipython3",
   "version": "3.10.12"
  },
  "orig_nbformat": 4
 },
 "nbformat": 4,
 "nbformat_minor": 2
}
