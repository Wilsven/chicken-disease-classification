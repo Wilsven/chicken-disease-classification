{
 "cells": [
  {
   "cell_type": "code",
   "execution_count": 1,
   "metadata": {},
   "outputs": [],
   "source": [
    "import os"
   ]
  },
  {
   "cell_type": "code",
   "execution_count": 2,
   "metadata": {},
   "outputs": [
    {
     "data": {
      "text/plain": [
       "'/Users/wilsvenleong/Downloads/learning-materials/chicken-disease-classification/research'"
      ]
     },
     "execution_count": 2,
     "metadata": {},
     "output_type": "execute_result"
    }
   ],
   "source": [
    "%pwd"
   ]
  },
  {
   "cell_type": "code",
   "execution_count": 3,
   "metadata": {},
   "outputs": [
    {
     "data": {
      "text/plain": [
       "'/Users/wilsvenleong/Downloads/learning-materials/chicken-disease-classification'"
      ]
     },
     "execution_count": 3,
     "metadata": {},
     "output_type": "execute_result"
    }
   ],
   "source": [
    "os.chdir(\"../\")  # Move up to root directory\n",
    "%pwd"
   ]
  },
  {
   "cell_type": "markdown",
   "metadata": {},
   "source": [
    "## 1. Update `params.yaml` and `config.yaml`"
   ]
  },
  {
   "cell_type": "markdown",
   "metadata": {},
   "source": [
    "## 4. Update the Entity"
   ]
  },
  {
   "cell_type": "code",
   "execution_count": 4,
   "metadata": {},
   "outputs": [],
   "source": [
    "from dataclasses import dataclass\n",
    "from pathlib import Path\n",
    "\n",
    "\n",
    "@dataclass(frozen=True)\n",
    "class BaseModelConfig:\n",
    "    root_dir: Path\n",
    "    base_model_path: Path\n",
    "    updated_base_model_path: Path\n",
    "    image_size: list\n",
    "    learning_rate: float\n",
    "    include_top: bool\n",
    "    weights: str\n",
    "    classes: int"
   ]
  },
  {
   "cell_type": "markdown",
   "metadata": {},
   "source": [
    "## 5. Update the `ConfigurationManager` in `src/config/configuration.py`"
   ]
  },
  {
   "cell_type": "code",
   "execution_count": 5,
   "metadata": {},
   "outputs": [],
   "source": [
    "from chicken_disease_classification.constants import *\n",
    "from chicken_disease_classification.utils.common import read_yaml, create_directories\n",
    "\n",
    "\n",
    "class ConfigurationManager:\n",
    "    def __init__(\n",
    "        self,\n",
    "        config_file_path: Path = CONFIG_FILE_PATH,\n",
    "        params_file_path: Path = PARAMS_FILE_PATH,\n",
    "    ):\n",
    "        self.config = read_yaml(config_file_path)\n",
    "        self.params = read_yaml(params_file_path)\n",
    "\n",
    "        create_directories([self.config.artifacts_root])\n",
    "\n",
    "    def get_base_model_config(self) -> BaseModelConfig:\n",
    "        base_model_preparation = self.config.base_model_preparation\n",
    "\n",
    "        create_directories([base_model_preparation.root_dir])\n",
    "\n",
    "        base_model_config = BaseModelConfig(\n",
    "            root_dir=Path(base_model_preparation.root_dir),\n",
    "            base_model_path=Path(base_model_preparation.base_model_path),\n",
    "            updated_base_model_path=Path(\n",
    "                base_model_preparation.updated_base_model_path\n",
    "            ),\n",
    "            image_size=self.params.IMAGE_SIZE,\n",
    "            learning_rate=self.params.LEARNING_RATE,\n",
    "            include_top=self.params.INCLUDE_TOP,\n",
    "            weights=self.params.WEIGHTS,\n",
    "            classes=self.params.CLASSES,\n",
    "        )\n",
    "\n",
    "        return base_model_config"
   ]
  },
  {
   "cell_type": "markdown",
   "metadata": {},
   "source": [
    "## 6. Update the Components"
   ]
  },
  {
   "cell_type": "code",
   "execution_count": 6,
   "metadata": {},
   "outputs": [],
   "source": [
    "from typing import Optional\n",
    "import tensorflow as tf\n",
    "\n",
    "\n",
    "class BaseModel:\n",
    "    def __init__(self, config: BaseModelConfig):\n",
    "        self.base_model_config = config\n",
    "\n",
    "    def get_base_model(self):\n",
    "        self.model = tf.keras.applications.vgg16.VGG16(\n",
    "            input_shape=self.base_model_config.image_size,\n",
    "            weights=self.base_model_config.weights,\n",
    "            include_top=self.base_model_config.include_top,\n",
    "        )\n",
    "\n",
    "        self.save_model(path=self.base_model_config.base_model_path, model=self.model)\n",
    "\n",
    "    @staticmethod\n",
    "    def _prepare_full_model(\n",
    "        model: tf.keras.Model,\n",
    "        classes: int,\n",
    "        learning_rate: float,\n",
    "        freeze_all: Optional[bool] = True,\n",
    "        freeze_till: Optional[int] = None,\n",
    "    ):\n",
    "        if freeze_all:\n",
    "            for layer in model.layers:\n",
    "                layer.trainable = False\n",
    "        elif (freeze_till is not None) and (freeze_till > 0):\n",
    "            for layer in model.layers[:-freeze_till]:\n",
    "                layer.trainable = False\n",
    "\n",
    "        flatten_in = tf.keras.layers.Flatten()(model.output)\n",
    "        prediction = tf.keras.layers.Dense(\n",
    "            units=classes,\n",
    "            activation=\"softmax\",\n",
    "        )(flatten_in)\n",
    "\n",
    "        full_model = tf.keras.models.Model(\n",
    "            inputs=model.output,\n",
    "            outputs=prediction,\n",
    "        )\n",
    "\n",
    "        full_model.compile(\n",
    "            optimizer=tf.keras.optimizers.SGD(learning_rate=learning_rate),\n",
    "            loss=tf.keras.losses.CategoricalCrossentropy(),\n",
    "            metrics=[\"accuracy\"],\n",
    "        )\n",
    "\n",
    "        full_model.summary()\n",
    "\n",
    "        return full_model\n",
    "\n",
    "    def update_base_model(self):\n",
    "        self.full_model = self._prepare_full_model(\n",
    "            model=self.model,\n",
    "            classes=self.base_model_config.classes,\n",
    "            learning_rate=self.base_model_config.learning_rate,\n",
    "            freeze_all=True,\n",
    "            freeze_till=None,\n",
    "        )\n",
    "\n",
    "        self.save_model(\n",
    "            path=self.base_model_config.updated_base_model_path, model=self.full_model\n",
    "        )\n",
    "\n",
    "    @staticmethod\n",
    "    def save_model(path: Path, model: tf.keras.Model):\n",
    "        model.save(path)"
   ]
  },
  {
   "cell_type": "markdown",
   "metadata": {},
   "source": [
    "## 7. Update the Pipeline"
   ]
  },
  {
   "cell_type": "code",
   "execution_count": 7,
   "metadata": {},
   "outputs": [
    {
     "name": "stdout",
     "output_type": "stream",
     "text": [
      "[ 2023-09-22 19:35:04,514 ] 33 common chicken-disease-logger -  INFO - Loaded YAML file successfully from: config/config.yaml\n",
      "[ 2023-09-22 19:35:04,518 ] 33 common chicken-disease-logger -  INFO - Loaded YAML file successfully from: params.yaml\n",
      "[ 2023-09-22 19:35:04,520 ] 53 common chicken-disease-logger -  INFO - Created directory at: artifacts\n",
      "[ 2023-09-22 19:35:04,521 ] 53 common chicken-disease-logger -  INFO - Created directory at: artifacts/base_model\n",
      "[ 2023-09-22 19:35:04,907 ] 359 saving_utils tensorflow -  WARNING - Compiled the loaded model, but the compiled metrics have yet to be built. `model.compile_metrics` will be empty until you train or evaluate the model.\n",
      "[ 2023-09-22 19:35:04,971 ] 70 optimizer absl -  WARNING - At this time, the v2.11+ optimizer `tf.keras.optimizers.SGD` runs slowly on M1/M2 Macs, please use the legacy Keras optimizer instead, located at `tf.keras.optimizers.legacy.SGD`.\n",
      "[ 2023-09-22 19:35:04,973 ] 292 __init__ absl -  WARNING - There is a known slowdown when using v2.11+ Keras optimizers on M1/M2 Macs. Falling back to the legacy Keras optimizer, i.e., `tf.keras.optimizers.legacy.SGD`.\n",
      "Model: \"model\"\n",
      "_________________________________________________________________\n",
      " Layer (type)                Output Shape              Param #   \n",
      "=================================================================\n",
      " input_2 (InputLayer)        [(None, 7, 7, 512)]       0         \n",
      "                                                                 \n",
      " flatten (Flatten)           (None, 25088)             0         \n",
      "                                                                 \n",
      " dense (Dense)               (None, 2)                 50178     \n",
      "                                                                 \n",
      "=================================================================\n",
      "Total params: 50178 (196.01 KB)\n",
      "Trainable params: 50178 (196.01 KB)\n",
      "Non-trainable params: 0 (0.00 Byte)\n",
      "_________________________________________________________________\n"
     ]
    },
    {
     "name": "stderr",
     "output_type": "stream",
     "text": [
      "/Users/wilsvenleong/opt/anaconda3/envs/chicken/lib/python3.10/site-packages/keras/src/engine/training.py:3000: UserWarning: You are saving your model as an HDF5 file via `model.save()`. This file format is considered legacy. We recommend using instead the native Keras format, e.g. `model.save('my_model.keras')`.\n",
      "  saving_api.save_model(\n"
     ]
    }
   ],
   "source": [
    "try:\n",
    "    config_manager = ConfigurationManager()\n",
    "    base_model_config = config_manager.get_base_model_config()\n",
    "    base_model = BaseModel(config=base_model_config)\n",
    "    base_model.get_base_model()\n",
    "    base_model.update_base_model()\n",
    "except Exception as e:\n",
    "    raise e"
   ]
  },
  {
   "cell_type": "code",
   "execution_count": null,
   "metadata": {},
   "outputs": [],
   "source": []
  }
 ],
 "metadata": {
  "kernelspec": {
   "display_name": "chicken",
   "language": "python",
   "name": "python3"
  },
  "language_info": {
   "codemirror_mode": {
    "name": "ipython",
    "version": 3
   },
   "file_extension": ".py",
   "mimetype": "text/x-python",
   "name": "python",
   "nbconvert_exporter": "python",
   "pygments_lexer": "ipython3",
   "version": "3.10.12"
  },
  "orig_nbformat": 4
 },
 "nbformat": 4,
 "nbformat_minor": 2
}
