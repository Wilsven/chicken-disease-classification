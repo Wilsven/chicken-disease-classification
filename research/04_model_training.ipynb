{
 "cells": [
  {
   "cell_type": "code",
   "execution_count": 1,
   "metadata": {},
   "outputs": [
    {
     "data": {
      "text/plain": [
       "'/Users/wilsvenleong/Downloads/learning-materials/chicken-disease-classification/research'"
      ]
     },
     "execution_count": 1,
     "metadata": {},
     "output_type": "execute_result"
    }
   ],
   "source": [
    "import os\n",
    "\n",
    "%pwd # Print current directory"
   ]
  },
  {
   "cell_type": "code",
   "execution_count": 2,
   "metadata": {},
   "outputs": [
    {
     "data": {
      "text/plain": [
       "'/Users/wilsvenleong/Downloads/learning-materials/chicken-disease-classification'"
      ]
     },
     "execution_count": 2,
     "metadata": {},
     "output_type": "execute_result"
    }
   ],
   "source": [
    "os.chdir(\"../\")  # Move up to root directory\n",
    "%pwd"
   ]
  },
  {
   "cell_type": "markdown",
   "metadata": {},
   "source": [
    "## 1. Update `params.yaml` and `config.yaml`"
   ]
  },
  {
   "cell_type": "markdown",
   "metadata": {},
   "source": [
    "## 4. Update the Entity"
   ]
  },
  {
   "cell_type": "code",
   "execution_count": 3,
   "metadata": {},
   "outputs": [],
   "source": [
    "from dataclasses import dataclass\n",
    "from pathlib import Path\n",
    "\n",
    "\n",
    "@dataclass(frozen=True)\n",
    "class CallbacksConfig:\n",
    "    root_dir: Path\n",
    "    tensorboard_log_dir: Path\n",
    "    checkpoints_file_path: Path\n",
    "\n",
    "\n",
    "@dataclass(frozen=True)\n",
    "class TrainingConfig:\n",
    "    root_dir: Path\n",
    "    trained_model_path: Path\n",
    "    updated_base_model_path: Path\n",
    "    training_data: Path\n",
    "    epochs: int\n",
    "    batch_size: int\n",
    "    augmentation: bool\n",
    "    image_size: list"
   ]
  },
  {
   "cell_type": "markdown",
   "metadata": {},
   "source": [
    "## 5. Update the `ConfigurationManager` in `src/config/configuration.py`"
   ]
  },
  {
   "cell_type": "code",
   "execution_count": 4,
   "metadata": {},
   "outputs": [],
   "source": [
    "from chicken_disease_classification.constants import *\n",
    "from chicken_disease_classification.utils.common import read_yaml, create_directories\n",
    "\n",
    "\n",
    "class ConfigurationManager:\n",
    "    def __init__(\n",
    "        self,\n",
    "        config_file_path: Path = CONFIG_FILE_PATH,\n",
    "        params_file_path: Path = PARAMS_FILE_PATH,\n",
    "    ):\n",
    "        self.config = read_yaml(config_file_path)\n",
    "        self.params = read_yaml(params_file_path)\n",
    "\n",
    "        create_directories([self.config.artifacts_root])\n",
    "\n",
    "    def get_callbacks_config(self) -> CallbacksConfig:\n",
    "        callbacks_preparation = self.config.callbacks_preparation\n",
    "\n",
    "        create_directories(\n",
    "            [callbacks_preparation.root_dir, callbacks_preparation.tensorboard_log_dir]\n",
    "        )\n",
    "\n",
    "        callbacks_config = CallbacksConfig(\n",
    "            root_dir=Path(callbacks_preparation.root_dir),\n",
    "            tensorboard_log_dir=Path(callbacks_preparation.tensorboard_log_dir),\n",
    "            checkpoints_file_path=Path(callbacks_preparation.checkpoints_file_path),\n",
    "        )\n",
    "\n",
    "        return callbacks_config\n",
    "\n",
    "    def get_model_training_config(self) -> TrainingConfig:\n",
    "        model_training = self.config.model_training\n",
    "        base_model_preparation = self.config.base_model_preparation\n",
    "        params = self.params\n",
    "\n",
    "        training_data = os.path.join(\n",
    "            self.config.data_ingestion.unzip_dir, \"Chicken-fecal-images\"\n",
    "        )\n",
    "\n",
    "        create_directories([model_training.root_dir])\n",
    "\n",
    "        model_training_config = TrainingConfig(\n",
    "            root_dir=Path(model_training.root_dir),\n",
    "            trained_model_path=Path(model_training.trained_model_path),\n",
    "            updated_base_model_path=Path(\n",
    "                base_model_preparation.updated_base_model_path\n",
    "            ),\n",
    "            training_data=Path(training_data),\n",
    "            epochs=params.EPOCHS,\n",
    "            batch_size=params.BATCH_SIZE,\n",
    "            augmentation=params.AUGMENTATION,\n",
    "            image_size=params.IMAGE_SIZE,\n",
    "        )\n",
    "\n",
    "        return model_training_config"
   ]
  },
  {
   "cell_type": "markdown",
   "metadata": {},
   "source": [
    "## 6. Update the Components"
   ]
  },
  {
   "cell_type": "code",
   "execution_count": 5,
   "metadata": {},
   "outputs": [],
   "source": [
    "import time\n",
    "import tensorflow as tf\n",
    "\n",
    "\n",
    "class Callbacks:\n",
    "    def __init__(self, config: CallbacksConfig):\n",
    "        self.callbacks_config = config\n",
    "\n",
    "    @property\n",
    "    def _create_tb_callbacks(self):\n",
    "        timestamp = time.strftime(\"%Y-%m-%d-%H-%M-%S\")\n",
    "        tb_running_log_dir = os.path.join(\n",
    "            self.callbacks_config.tensorboard_log_dir, f\"tb_logs_at_{timestamp}\"\n",
    "        )\n",
    "        return tf.keras.callbacks.TensorBoard(log_dir=tb_running_log_dir)\n",
    "\n",
    "    @property\n",
    "    def _create_ckpt_callbacks(self):\n",
    "        return tf.keras.callbacks.ModelCheckpoint(\n",
    "            filepath=str(self.callbacks_config.checkpoints_file_path),\n",
    "            save_best_only=True,\n",
    "        )\n",
    "\n",
    "    def get_tb_ckpt_callbacks(self):\n",
    "        return [self._create_tb_callbacks, self._create_ckpt_callbacks]\n",
    "\n",
    "\n",
    "class Training:\n",
    "    def __init__(self, config: TrainingConfig):\n",
    "        self.model_training_config = config\n",
    "\n",
    "    def get_base_model(self):\n",
    "        self.model = tf.keras.models.load_model(\n",
    "            self.model_training_config.updated_base_model_path\n",
    "        )\n",
    "\n",
    "    def train_valid_generator(self):\n",
    "        data_generator_kwargs = {\"rescale\": 1.0 / 255, \"validation_split\": 0.2}\n",
    "        data_flow_kwargs = {\n",
    "            \"target_size\": self.model_training_config.image_size[:-1],\n",
    "            \"batch_size\": self.model_training_config.batch_size,\n",
    "            \"interpolation\": \"bilinear\",\n",
    "        }\n",
    "\n",
    "        valid_data_generator = tf.keras.preprocessing.image.ImageDataGenerator(\n",
    "            **data_generator_kwargs\n",
    "        )\n",
    "\n",
    "        self.valid_generator = valid_data_generator.flow_from_directory(\n",
    "            directory=self.model_training_config.training_data,\n",
    "            subset=\"validation\",\n",
    "            shuffle=False,\n",
    "            **data_flow_kwargs,\n",
    "        )\n",
    "\n",
    "        if self.model_training_config.augmentation:\n",
    "            train_data_generator = tf.keras.preprocessing.image.ImageDataGenerator(\n",
    "                rotation_range=40,\n",
    "                horizontal_flip=True,\n",
    "                width_shift_range=0.2,\n",
    "                height_shift_range=0.2,\n",
    "                shear_range=0.2,\n",
    "                zoom_range=0.2,\n",
    "                **data_generator_kwargs,\n",
    "            )\n",
    "        else:\n",
    "            train_data_generator = valid_data_generator\n",
    "\n",
    "        self.train_generator = train_data_generator.flow_from_directory(\n",
    "            directory=self.model_training_config.training_data,\n",
    "            subset=\"training\",\n",
    "            shuffle=True,\n",
    "            **data_flow_kwargs,\n",
    "        )\n",
    "\n",
    "    @staticmethod\n",
    "    def save_model(path: Path, model: tf.keras.Model):\n",
    "        model.save(path)\n",
    "\n",
    "    def train(self, callback_list: list):\n",
    "        self.steps_per_epoch = (\n",
    "            self.train_generator.samples // self.train_generator.batch_size\n",
    "        )\n",
    "        self.validation_steps = (\n",
    "            self.valid_generator.samples // self.valid_generator.batch_size\n",
    "        )\n",
    "\n",
    "        self.model.fit(\n",
    "            self.train_generator,\n",
    "            epochs=self.model_training_config.epochs,\n",
    "            steps_per_epoch=self.steps_per_epoch,\n",
    "            validation_steps=self.validation_steps,\n",
    "            validation_data=self.valid_generator,\n",
    "            callbacks=callback_list,\n",
    "        )\n",
    "\n",
    "        self.save_model(\n",
    "            path=self.model_training_config.trained_model_path, model=self.model\n",
    "        )"
   ]
  },
  {
   "cell_type": "markdown",
   "metadata": {},
   "source": [
    "## 7. Update the Pipeline"
   ]
  },
  {
   "cell_type": "code",
   "execution_count": 6,
   "metadata": {},
   "outputs": [
    {
     "name": "stdout",
     "output_type": "stream",
     "text": [
      "[ 2023-09-23 01:55:54,497 ] 33 common chicken-disease-logger -  INFO - Loaded YAML file successfully from: config/config.yaml\n",
      "[ 2023-09-23 01:55:54,500 ] 33 common chicken-disease-logger -  INFO - Loaded YAML file successfully from: params.yaml\n",
      "[ 2023-09-23 01:55:54,501 ] 53 common chicken-disease-logger -  INFO - Created directory at: artifacts\n",
      "[ 2023-09-23 01:55:54,502 ] 53 common chicken-disease-logger -  INFO - Created directory at: artifacts/callbacks\n",
      "[ 2023-09-23 01:55:54,503 ] 53 common chicken-disease-logger -  INFO - Created directory at: artifacts/callbacks/tensorboard_logs\n",
      "[ 2023-09-23 01:55:54,507 ] 53 common chicken-disease-logger -  INFO - Created directory at: artifacts/model_training\n",
      "Found 78 images belonging to 2 classes.\n",
      "Found 312 images belonging to 2 classes.\n",
      "19/19 [==============================] - 43s 2s/step - loss: 9.8186 - accuracy: 0.6250 - val_loss: 7.8278 - val_accuracy: 0.6094\n"
     ]
    },
    {
     "name": "stderr",
     "output_type": "stream",
     "text": [
      "/Users/wilsvenleong/opt/anaconda3/envs/chicken/lib/python3.10/site-packages/keras/src/engine/training.py:3000: UserWarning: You are saving your model as an HDF5 file via `model.save()`. This file format is considered legacy. We recommend using instead the native Keras format, e.g. `model.save('my_model.keras')`.\n",
      "  saving_api.save_model(\n"
     ]
    }
   ],
   "source": [
    "try:\n",
    "    config_manager = ConfigurationManager()\n",
    "\n",
    "    callbacks_config = config_manager.get_callbacks_config()\n",
    "    callbacks = Callbacks(config=callbacks_config)\n",
    "    callbacks_list = callbacks.get_tb_ckpt_callbacks()\n",
    "\n",
    "    model_training_config = config_manager.get_model_training_config()\n",
    "    trainer = Training(config=model_training_config)\n",
    "    trainer.get_base_model()\n",
    "    trainer.train_valid_generator()\n",
    "    trainer.train(callback_list=callbacks_list)\n",
    "except Exception as e:\n",
    "    raise e"
   ]
  },
  {
   "cell_type": "code",
   "execution_count": null,
   "metadata": {},
   "outputs": [],
   "source": []
  }
 ],
 "metadata": {
  "kernelspec": {
   "display_name": "chicken",
   "language": "python",
   "name": "python3"
  },
  "language_info": {
   "codemirror_mode": {
    "name": "ipython",
    "version": 3
   },
   "file_extension": ".py",
   "mimetype": "text/x-python",
   "name": "python",
   "nbconvert_exporter": "python",
   "pygments_lexer": "ipython3",
   "version": "3.10.12"
  },
  "orig_nbformat": 4
 },
 "nbformat": 4,
 "nbformat_minor": 2
}
